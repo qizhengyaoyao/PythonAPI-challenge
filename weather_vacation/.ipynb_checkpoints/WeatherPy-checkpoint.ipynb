{
 "cells": [
  {
   "cell_type": "markdown",
   "metadata": {},
   "source": [
    "# WeatherPy\n",
    "----\n",
    "\n",
    "#### Note\n",
    "* Instructions have been included for each segment. You do not have to follow them exactly, but they are included to help you think through the steps."
   ]
  },
  {
   "cell_type": "code",
   "execution_count": 1,
   "metadata": {
    "scrolled": true
   },
   "outputs": [],
   "source": [
    "# Dependencies and Setup\n",
    "import numpy as np\n",
    "import requests\n",
    "import json\n",
    "import pandas as pd\n",
    "import matplotlib.pyplot as plt\n",
    "\n",
    "from scipy.stats import linregress\n",
    "from pprint import pprint\n",
    "from citipy import citipy\n",
    "\n",
    "# Import API key\n",
    "from api_keys import weather_api_key\n",
    "from api_keys import g_key\n",
    "\n",
    "# Generate a list of random locations\n",
    "np.random.seed()\n",
    "ntot=2000\n",
    "Lat_list=[np.random.uniform(-90.0,90.0) for x in range(ntot)]\n",
    "Lng_list=[np.random.uniform(-180.0,180.0) for x in range(ntot)]"
   ]
  },
  {
   "cell_type": "markdown",
   "metadata": {},
   "source": [
    "## Generate Cities List"
   ]
  },
  {
   "cell_type": "code",
   "execution_count": 2,
   "metadata": {},
   "outputs": [
    {
     "ename": "SyntaxError",
     "evalue": "Generator expression must be parenthesized (<ipython-input-2-1f0e2522df80>, line 2)",
     "output_type": "error",
     "traceback": [
      "\u001b[1;36m  File \u001b[1;32m\"<ipython-input-2-1f0e2522df80>\"\u001b[1;36m, line \u001b[1;32m2\u001b[0m\n\u001b[1;33m    city_list=[citipy.nearest_city(Lat_list[i],Lng_list[i] for i in range(ntot))]\u001b[0m\n\u001b[1;37m                                               ^\u001b[0m\n\u001b[1;31mSyntaxError\u001b[0m\u001b[1;31m:\u001b[0m Generator expression must be parenthesized\n"
     ]
    }
   ],
   "source": [
    "# Gnerate Cities list\n",
    "city_list=[citipy.nearest_city(Lat_list[i],Lng_list[i]) for i in range(ntot)]\n",
    "\n",
    "# Delete the duplicated cities\n",
    "city_list = list(dict.fromkeys(city_list))\n",
    "\n",
    "# print the number of cities\n",
    "len(city_list)\n",
    "#type(city_list[0].city_name)"
   ]
  },
  {
   "cell_type": "markdown",
   "metadata": {},
   "source": [
    "### Perform API Calls\n",
    "* Perform a weather check on each city using a series of successive API calls.\n",
    "* Include a print log of each city as it'sbeing processed (with the city number and city name).\n"
   ]
  },
  {
   "cell_type": "code",
   "execution_count": null,
   "metadata": {},
   "outputs": [],
   "source": [
    "# Save config information.\n",
    "url = \"http://api.openweathermap.org/data/2.5/weather?\"\n",
    "units = \"imperial\"\n",
    "\n",
    "# Build partial query URL\n",
    "query_url = f\"{url}appid={weather_api_key}&units={units}&q=\""
   ]
  },
  {
   "cell_type": "code",
   "execution_count": null,
   "metadata": {
    "scrolled": true
   },
   "outputs": [],
   "source": [
    "city_name_list=[]\n",
    "city_lat_list=[]\n",
    "city_lon_list=[]\n",
    "city_mtemp_list=[]\n",
    "city_hum_list=[]\n",
    "city_cl_list=[]\n",
    "city_wind_list=[]\n",
    "city_ctr_list=[]\n",
    "city_dt_list=[]\n",
    "\n",
    "print(\"Beginning Data Retrieval\")\n",
    "print(\"-----------------------------\")\n",
    "\n",
    "# Loop through the city_list and retrieve the weather data for each city\n",
    "for city in city_list:\n",
    "    try: \n",
    "        response = requests.get(query_url + city.city_name).json()\n",
    "        city_name_list.append(response[\"name\"])\n",
    "        city_lat_list.append(response[\"coord\"][\"lat\"])\n",
    "        city_lon_list.append(response[\"coord\"][\"lon\"])\n",
    "        city_mtemp_list.append(response[\"main\"][\"temp_max\"])\n",
    "        city_hum_list.append(response[\"main\"][\"humidity\"])\n",
    "        city_cl_list.append(response[\"clouds\"][\"all\"])\n",
    "        city_wind_list.append(response[\"wind\"][\"speed\"])\n",
    "        city_ctr_list.append(response[\"sys\"][\"country\"])\n",
    "        city_dt_list.append(response[\"dt\"])\n",
    "        print(f\"Retrieved data of {response['name']}\")\n",
    "        \n",
    "    # Throw an error message if the city is not found \n",
    "    except:\n",
    "        print(\"City not found. Skipping\")\n",
    "\n",
    "print(\"-----------------------------\")\n",
    "print(\"Data Retrieval Complete   \")\n",
    "print(\"-----------------------------\")"
   ]
  },
  {
   "cell_type": "code",
   "execution_count": null,
   "metadata": {},
   "outputs": [],
   "source": [
    "# print out the number of city list\n",
    "len(city_name_list)"
   ]
  },
  {
   "cell_type": "markdown",
   "metadata": {},
   "source": [
    "### Convert Raw Data to DataFrame\n",
    "* Export the city data into a .csv.\n",
    "* Display the DataFrame"
   ]
  },
  {
   "cell_type": "code",
   "execution_count": null,
   "metadata": {},
   "outputs": [],
   "source": [
    "# Create a dataframe\n",
    "ct_df=pd.DataFrame({\"City\":city_name_list,\n",
    "                   \"Lat\":city_lat_list,\n",
    "                   \"Lng\":city_lon_list,\n",
    "                   \"Max Temp\":city_mtemp_list,\n",
    "                   \"Humidity\":city_hum_list,\n",
    "                   \"Cloudiness\":city_cl_list,\n",
    "                   \"Wind Speed\":city_wind_list,\n",
    "                   \"Country\":city_ctr_list,\n",
    "                   \"Date\":city_dt_list})\n",
    "\n",
    "# Display the dataframe\n",
    "ct_df"
   ]
  },
  {
   "cell_type": "code",
   "execution_count": null,
   "metadata": {},
   "outputs": [],
   "source": [
    "# Clean the duplicated data\n",
    "ct_df.drop_duplicates(subset=[\"City\"],inplace=True)\n",
    "ct_df"
   ]
  },
  {
   "cell_type": "code",
   "execution_count": null,
   "metadata": {},
   "outputs": [],
   "source": [
    "# show a summary of the data\n",
    "ct_df.describe()"
   ]
  },
  {
   "cell_type": "markdown",
   "metadata": {},
   "source": [
    "## Inspect the data and remove the cities where the humidity > 100%.\n",
    "----\n",
    "Skip this step if there are no cities that have humidity > 100%. "
   ]
  },
  {
   "cell_type": "code",
   "execution_count": null,
   "metadata": {},
   "outputs": [],
   "source": [
    "#  Get the indices of cities that have humidity over 100%.\n",
    "ct_df[ct_df[\"Humidity\"]>100].index"
   ]
  },
  {
   "cell_type": "code",
   "execution_count": null,
   "metadata": {},
   "outputs": [],
   "source": [
    "# Make a new DataFrame equal to the city data to drop all humidity outliers by index.\n",
    "# Passing \"inplace=False\" will make a copy of the city_data DataFrame, which we call \"clean_city_data\".\n",
    "clean_city_data=ct_df.drop(ct_df[ct_df[\"Humidity\"]>100].index,inplace=False)\n",
    "clean_city_data.to_csv(\"../output_data/city_data.csv\",index=False)"
   ]
  },
  {
   "cell_type": "markdown",
   "metadata": {},
   "source": [
    "## Plotting the Data\n",
    "* Use proper labeling of the plots using plot titles (including date of analysis) and axes labels.\n",
    "* Save the plotted figures as .pngs."
   ]
  },
  {
   "cell_type": "markdown",
   "metadata": {},
   "source": [
    "## Latitude vs. Temperature Plot"
   ]
  },
  {
   "cell_type": "code",
   "execution_count": null,
   "metadata": {
    "scrolled": true
   },
   "outputs": [],
   "source": [
    "# Plot the scatter plot of Latitude vs. Temperature\n",
    "plt.scatter(clean_city_data[\"Lat\"],clean_city_data[\"Max Temp\"], s=60,alpha=0.75,edgecolors=\"black\")\n",
    "plt.grid(True)\n",
    "plt.xlabel(\"Latitude\")\n",
    "plt.ylabel(\"Max Temperature (F)\")\n",
    "plt.title(\"City Latitude vs Max Temperature\")\n",
    "plt.savefig(\"../output_data/Fig1_LatvsTemp.png\")\n",
    "plt.show()"
   ]
  },
  {
   "cell_type": "markdown",
   "metadata": {},
   "source": [
    "## Latitude vs. Humidity Plot"
   ]
  },
  {
   "cell_type": "code",
   "execution_count": null,
   "metadata": {},
   "outputs": [],
   "source": [
    "# Plot the scatter plot of Latitude vs. Humidity\n",
    "plt.scatter(clean_city_data[\"Lat\"],clean_city_data[\"Humidity\"], s=60,alpha=0.75,edgecolors=\"black\")\n",
    "plt.grid(True)\n",
    "#plt.xlim(-90,90)\n",
    "#plt.ylim(0,110)\n",
    "plt.xlabel(\"Latitude\")\n",
    "plt.ylabel(\"Humidity (%)\")\n",
    "plt.title(\"City Latitude vs Humidity\")\n",
    "plt.savefig(\"../output_data/Fig2_LatvsHum.png\")\n",
    "plt.show()"
   ]
  },
  {
   "cell_type": "markdown",
   "metadata": {},
   "source": [
    "## Latitude vs. Cloudiness Plot"
   ]
  },
  {
   "cell_type": "code",
   "execution_count": null,
   "metadata": {},
   "outputs": [],
   "source": [
    "# Plot the scatter plot of Latitude vs. Cloudiness\n",
    "plt.scatter(clean_city_data[\"Lat\"],clean_city_data[\"Cloudiness\"], s=60,alpha=0.75,edgecolors=\"black\")\n",
    "plt.grid(True)\n",
    "plt.xlabel(\"Latitude\")\n",
    "plt.ylabel(\"Cloudiness (%)\")\n",
    "plt.title(\"City Latitude vs Cloudiness\")\n",
    "plt.savefig(\"../output_data/Fig3_LatvsCloud.png\")\n",
    "plt.show()"
   ]
  },
  {
   "cell_type": "markdown",
   "metadata": {},
   "source": [
    "## Latitude vs. Wind Speed Plot"
   ]
  },
  {
   "cell_type": "code",
   "execution_count": null,
   "metadata": {},
   "outputs": [],
   "source": [
    "# Plot the scatter plot of Latitude vs. Wind Speed\n",
    "plt.scatter(clean_city_data[\"Lat\"],clean_city_data[\"Wind Speed\"], s=60,alpha=0.75,edgecolors=\"black\")\n",
    "plt.grid(True)\n",
    "plt.xlabel(\"Latitude\")\n",
    "plt.ylabel(\"Wind Speed (mph)\")\n",
    "plt.title(\"City Latitude vs Wind Speed\")\n",
    "plt.savefig(\"../output_data/Fig4_LatvsWSpeed.png\")\n",
    "plt.show()"
   ]
  },
  {
   "cell_type": "markdown",
   "metadata": {},
   "source": [
    "## Linear Regression"
   ]
  },
  {
   "cell_type": "code",
   "execution_count": null,
   "metadata": {},
   "outputs": [],
   "source": [
    "# Extract the city info in north and south hemisphere\n",
    "NCity=clean_city_data.loc[clean_city_data[\"Lat\"]>=0]\n",
    "SCity=clean_city_data.loc[clean_city_data[\"Lat\"]<0]"
   ]
  },
  {
   "cell_type": "markdown",
   "metadata": {},
   "source": [
    "####  Northern Hemisphere - Max Temp vs. Latitude Linear Regression"
   ]
  },
  {
   "cell_type": "code",
   "execution_count": null,
   "metadata": {},
   "outputs": [],
   "source": [
    "# Extract lattitude and temperature info\n",
    "x_lat = NCity['Lat']\n",
    "y_temp = NCity['Max Temp']\n",
    "\n",
    "# Add the linear regression equation and line to plot\n",
    "(slope, intercept, rvalue, pvalue, stderr) = linregress(x_lat, y_temp)\n",
    "print(f\"The r-squared is: {rvalue**2}\")\n",
    "regress_values = x_lat * slope + intercept\n",
    "line_eq = \"y = \" + str(round(slope,2)) + \"x + \" + str(round(intercept,2))\n",
    "plt.scatter(x_lat,y_temp, s=60,alpha=0.75,edgecolors=\"black\")\n",
    "plt.plot(x_lat,regress_values,\"r-\")\n",
    "plt.annotate(line_eq,(5,-10),fontsize=15,color=\"red\")\n",
    "plt.xlabel(\"Latitude\")\n",
    "plt.ylabel(\"Max Temperature (F)\")\n",
    "plt.title(\"Northern Hemisphere Latitude vs Max Temperature\")\n",
    "plt.savefig(\"../output_data/Fig5_NLatvsTemp.png\")\n",
    "plt.show()"
   ]
  },
  {
   "cell_type": "markdown",
   "metadata": {},
   "source": [
    "####  Southern Hemisphere - Max Temp vs. Latitude Linear Regression"
   ]
  },
  {
   "cell_type": "code",
   "execution_count": null,
   "metadata": {},
   "outputs": [],
   "source": [
    "# Extract lattitude and temperature info\n",
    "x_lat = SCity['Lat']\n",
    "y_temp = SCity['Max Temp']\n",
    "\n",
    "# Add the linear regression equation and line to plot\n",
    "(slope, intercept, rvalue, pvalue, stderr) = linregress(x_lat, y_temp)\n",
    "print(f\"The r-squared is: {rvalue**2}\")\n",
    "regress_values = x_lat * slope + intercept\n",
    "line_eq = \"y = \" + str(round(slope,2)) + \"x + \" + str(round(intercept,2))\n",
    "plt.scatter(x_lat,y_temp, s=60,alpha=0.75,edgecolors=\"black\")\n",
    "plt.plot(x_lat,regress_values,\"r-\")\n",
    "plt.annotate(line_eq,(-50,95),fontsize=15,color=\"red\")\n",
    "plt.xlabel(\"Latitude\")\n",
    "plt.ylabel(\"Max Temperature (F)\")\n",
    "plt.title(\"Sourthern Hemisphere Latitude vs Max Temperature\")\n",
    "plt.savefig(\"../output_data/Fig6_SLatvsTemp.png\")\n",
    "plt.show()"
   ]
  },
  {
   "cell_type": "markdown",
   "metadata": {},
   "source": [
    "####  Northern Hemisphere - Humidity (%) vs. Latitude Linear Regression"
   ]
  },
  {
   "cell_type": "code",
   "execution_count": null,
   "metadata": {},
   "outputs": [],
   "source": [
    "# Extract lattitude and humidity info\n",
    "x_lat = NCity['Lat']\n",
    "y_hum = NCity['Humidity']\n",
    "\n",
    "# Add the linear regression equation and line to plot\n",
    "(slope, intercept, rvalue, pvalue, stderr) = linregress(x_lat, y_hum)\n",
    "print(f\"The r-squared is: {rvalue**2}\")\n",
    "regress_values = x_lat * slope + intercept\n",
    "line_eq = \"y = \" + str(round(slope,2)) + \"x + \" + str(round(intercept,2))\n",
    "plt.scatter(x_lat,y_hum, s=60,alpha=0.75,edgecolors=\"black\")\n",
    "plt.plot(x_lat,regress_values,\"r-\")\n",
    "plt.annotate(line_eq,(40,30),fontsize=15,color=\"red\")\n",
    "plt.xlabel(\"Latitude\")\n",
    "plt.ylabel(\"Humidity (%)\")\n",
    "plt.title(\"Northern Hemisphere Latitude vs Humidity\")\n",
    "plt.savefig(\"../output_data/Fig7_NLatvsHum.png\")\n",
    "plt.show()"
   ]
  },
  {
   "cell_type": "markdown",
   "metadata": {},
   "source": [
    "####  Southern Hemisphere - Humidity (%) vs. Latitude Linear Regression"
   ]
  },
  {
   "cell_type": "code",
   "execution_count": null,
   "metadata": {},
   "outputs": [],
   "source": [
    "# Extract lattitude and humidity info\n",
    "x_lat = SCity['Lat']\n",
    "y_hum = SCity['Humidity']\n",
    "\n",
    "# Add the linear regression equation and line to plot\n",
    "(slope, intercept, rvalue, pvalue, stderr) = linregress(x_lat, y_hum)\n",
    "print(f\"The r-squared is: {rvalue**2}\")\n",
    "regress_values = x_lat * slope + intercept\n",
    "line_eq = \"y = \" + str(round(slope,2)) + \"x + \" + str(round(intercept,2))\n",
    "plt.scatter(x_lat,y_hum, s=60,alpha=0.75,edgecolors=\"black\")\n",
    "plt.plot(x_lat,regress_values,\"r-\")\n",
    "plt.annotate(line_eq,(-40,20),fontsize=15,color=\"red\")\n",
    "plt.xlabel(\"Latitude\")\n",
    "plt.ylabel(\"Humidity (%)\")\n",
    "plt.title(\"Southern Hemisphere Latitude vs Humidity\")\n",
    "plt.savefig(\"../output_data/Fig8_SLatvsHum.png\")\n",
    "plt.show()"
   ]
  },
  {
   "cell_type": "markdown",
   "metadata": {},
   "source": [
    "####  Northern Hemisphere - Cloudiness (%) vs. Latitude Linear Regression"
   ]
  },
  {
   "cell_type": "code",
   "execution_count": null,
   "metadata": {},
   "outputs": [],
   "source": [
    "# Extract lattitude and cloudiness info\n",
    "x_lat = NCity['Lat']\n",
    "y_cl = NCity['Cloudiness']\n",
    "\n",
    "# Add the linear regression equation and line to plot\n",
    "(slope, intercept, rvalue, pvalue, stderr) = linregress(x_lat, y_cl)\n",
    "print(f\"The r-squared is: {rvalue**2}\")\n",
    "regress_values = x_lat * slope + intercept\n",
    "line_eq = \"y = \" + str(round(slope,2)) + \"x + \" + str(round(intercept,2))\n",
    "plt.scatter(x_lat,y_cl, s=60,alpha=0.75,edgecolors=\"black\")\n",
    "plt.plot(x_lat,regress_values,\"r-\")\n",
    "plt.annotate(line_eq,(40,30),fontsize=15,color=\"red\")\n",
    "plt.xlabel(\"Latitude\")\n",
    "plt.ylabel(\"Cloudiness (%)\")\n",
    "plt.title(\"Northern Hemisphere Latitude vs Cloudiness\")\n",
    "plt.savefig(\"../output_data/Fig9_NLatvsCloud.png\")\n",
    "plt.show()"
   ]
  },
  {
   "cell_type": "markdown",
   "metadata": {},
   "source": [
    "####  Southern Hemisphere - Cloudiness (%) vs. Latitude Linear Regression"
   ]
  },
  {
   "cell_type": "code",
   "execution_count": null,
   "metadata": {},
   "outputs": [],
   "source": [
    "# Extract lattitude and cloudiness info\n",
    "x_lat = SCity['Lat']\n",
    "y_cl = SCity['Cloudiness']\n",
    "\n",
    "# Add the linear regression equation and line to plot\n",
    "(slope, intercept, rvalue, pvalue, stderr) = linregress(x_lat, y_cl)\n",
    "print(f\"The r-squared is: {rvalue**2}\")\n",
    "regress_values = x_lat * slope + intercept\n",
    "line_eq = \"y = \" + str(round(slope,2)) + \"x + \" + str(round(intercept,2))\n",
    "plt.scatter(x_lat,y_cl, s=60,alpha=0.75,edgecolors=\"black\")\n",
    "plt.plot(x_lat,regress_values,\"r-\")\n",
    "plt.annotate(line_eq,(-30,30),fontsize=15,color=\"red\")\n",
    "plt.xlabel(\"Latitude\")\n",
    "plt.ylabel(\"Cloudiness (%)\")\n",
    "plt.title(\"Southern Hemisphere Latitude vs Cloudiness\")\n",
    "plt.savefig(\"../output_data/Fig10_sLatvsCloud.png\")\n",
    "plt.show()"
   ]
  },
  {
   "cell_type": "markdown",
   "metadata": {},
   "source": [
    "####  Northern Hemisphere - Wind Speed (mph) vs. Latitude Linear Regression"
   ]
  },
  {
   "cell_type": "code",
   "execution_count": null,
   "metadata": {},
   "outputs": [],
   "source": [
    "# Extract lattitude and wind speed info\n",
    "x_lat = NCity['Lat']\n",
    "y_ws = NCity['Wind Speed']\n",
    "\n",
    "# Add the linear regression equation and line to plot\n",
    "(slope, intercept, rvalue, pvalue, stderr) = linregress(x_lat, y_ws)\n",
    "print(f\"The r-squared is: {rvalue**2}\")\n",
    "regress_values = x_lat * slope + intercept\n",
    "line_eq = \"y = \" + str(round(slope,2)) + \"x + \" + str(round(intercept,2))\n",
    "plt.scatter(x_lat,y_ws, s=60,alpha=0.75,edgecolors=\"black\")\n",
    "plt.plot(x_lat,regress_values,\"r-\")\n",
    "plt.annotate(line_eq,(40,25),fontsize=15,color=\"red\")\n",
    "plt.xlabel(\"Latitude\")\n",
    "plt.ylabel(\"Wind Speed (mph)\")\n",
    "plt.title(\"Northern Hemisphere Latitude vs Wind Speed\")\n",
    "plt.savefig(\"../output_data/Fig11_NLatvsWSpeed.png\")\n",
    "plt.show()"
   ]
  },
  {
   "cell_type": "markdown",
   "metadata": {},
   "source": [
    "####  Southern Hemisphere - Wind Speed (mph) vs. Latitude Linear Regression"
   ]
  },
  {
   "cell_type": "code",
   "execution_count": null,
   "metadata": {},
   "outputs": [],
   "source": [
    "# Extract lattitude and wind speed info\n",
    "x_lat = SCity['Lat']\n",
    "y_ws = SCity['Wind Speed']\n",
    "\n",
    "# Add the linear regression equation and line to plot\n",
    "(slope, intercept, rvalue, pvalue, stderr) = linregress(x_lat, y_ws)\n",
    "print(f\"The r-squared is: {rvalue**2}\")\n",
    "regress_values = x_lat * slope + intercept\n",
    "line_eq = \"y = \" + str(round(slope,2)) + \"x + \" + str(round(intercept,2))\n",
    "plt.scatter(x_lat,y_ws, s=60,alpha=0.75,edgecolors=\"black\")\n",
    "plt.plot(x_lat,regress_values,\"r-\")\n",
    "plt.annotate(line_eq,(-40,25),fontsize=15,color=\"red\")\n",
    "plt.xlabel(\"Latitude\")\n",
    "plt.ylabel(\"Wind Speed (mph)\")\n",
    "plt.title(\"Southern Hemisphere Latitude vs Wind Speed\")\n",
    "plt.savefig(\"../output_data/Fig12_SLatvsWSpeed.png\")\n",
    "plt.show()"
   ]
  },
  {
   "cell_type": "code",
   "execution_count": null,
   "metadata": {},
   "outputs": [],
   "source": []
  }
 ],
 "metadata": {
  "anaconda-cloud": {},
  "kernel_info": {
   "name": "python3"
  },
  "kernelspec": {
   "display_name": "Python [conda env:PythonEnv] *",
   "language": "python",
   "name": "conda-env-PythonEnv-py"
  },
  "language_info": {
   "codemirror_mode": {
    "name": "ipython",
    "version": 3
   },
   "file_extension": ".py",
   "mimetype": "text/x-python",
   "name": "python",
   "nbconvert_exporter": "python",
   "pygments_lexer": "ipython3",
   "version": "3.8.5"
  },
  "latex_envs": {
   "LaTeX_envs_menu_present": true,
   "autoclose": false,
   "autocomplete": true,
   "bibliofile": "biblio.bib",
   "cite_by": "apalike",
   "current_citInitial": 1,
   "eqLabelWithNumbers": true,
   "eqNumInitial": 1,
   "hotkeys": {
    "equation": "Ctrl-E",
    "itemize": "Ctrl-I"
   },
   "labels_anchors": false,
   "latex_user_defs": false,
   "report_style_numbering": false,
   "user_envs_cfg": false
  },
  "nteract": {
   "version": "0.12.3"
  }
 },
 "nbformat": 4,
 "nbformat_minor": 2
}
